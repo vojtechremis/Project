{
 "cells": [
  {
   "cell_type": "markdown",
   "source": [
    "This Jupyter Notebook is almost the same as a feedback_analysis.ipynb, it just performs analysis on whole folder of experiments."
   ],
   "metadata": {
    "collapsed": false
   }
  },
  {
   "cell_type": "code",
   "outputs": [],
   "source": [
    "root_directory = '/Users/vojtechremis/Desktop/bachelorproject/'"
   ],
   "metadata": {
    "collapsed": false
   }
  },
  {
   "cell_type": "code",
   "execution_count": null,
   "metadata": {},
   "outputs": [],
   "source": [
    "import pandas as pd\n",
    "import numpy as np\n",
    "\n",
    "import os\n",
    "import sys\n",
    "sys.path.append(root_directory+'Inc')\n",
    "from Inc import feedback_analysis\n",
    "import log\n",
    "Log = log.log()\n",
    "\n",
    "experimentFolder = root_directory+'2_GeneratingIntervals/Output/EXPERIMENT_1/Combinations'\n",
    "sampledFunction = np.load(root_directory+'1_GenerateFunction/generated_data/subsetSamples_thesis.npz')\n",
    "\n",
    "\n",
    "# Loop through Combination sets\n",
    "for filename in os.listdir(experimentFolder):\n",
    "    file_path = os.path.join(experimentFolder, filename)\n",
    "    if os.path.isdir(file_path):\n",
    "        Log.info(f'Analyzing experiment: {filename}')\n",
    "\n",
    "        csv = pd.read_csv(f'{file_path}/Combinations_Detail.csv')\n",
    "\n",
    "        fbc = feedback_analysis.feedBackAnalysis(sampledFunction=sampledFunction, combinationsDetail=csv, logFilePath=file_path, Log_instance=Log)\n",
    "\n",
    "        fbc.samplesInIntervals()\n",
    "        fbc.checkCombinations()\n",
    "        fbc.emptyIntervals()\n",
    "        fbc.relativeIntervalLength()\n",
    "        fbc.relativeProfitHist()\n"
   ]
  }
 ],
 "metadata": {
  "kernelspec": {
   "display_name": "zacks-venv",
   "language": "python",
   "name": "python3"
  },
  "language_info": {
   "codemirror_mode": {
    "name": "ipython",
    "version": 3
   },
   "file_extension": ".py",
   "mimetype": "text/x-python",
   "name": "python",
   "nbconvert_exporter": "python",
   "pygments_lexer": "ipython3",
   "version": "3.6.8"
  }
 },
 "nbformat": 4,
 "nbformat_minor": 2
}
