{
 "cells": [
  {
   "cell_type": "markdown",
   "source": [
    "# MNIST Training ShowDown"
   ],
   "metadata": {
    "collapsed": false
   },
   "id": "ad20797cd60dec80"
  },
  {
   "cell_type": "code",
   "outputs": [],
   "source": [
    "root_directory = '/Users/vojtechremis/Desktop/bachelorproject/'"
   ],
   "metadata": {
    "collapsed": false,
    "ExecuteTime": {
     "end_time": "2024-07-19T19:49:29.889119Z",
     "start_time": "2024-07-19T19:49:29.878425Z"
    }
   },
   "id": "ecf5a00bf11609ca",
   "execution_count": 1
  },
  {
   "cell_type": "code",
   "execution_count": 2,
   "id": "initial_id",
   "metadata": {
    "collapsed": true,
    "ExecuteTime": {
     "end_time": "2024-07-19T19:49:33.339603Z",
     "start_time": "2024-07-19T19:49:29.882966Z"
    }
   },
   "outputs": [],
   "source": [
    "import tensorflow as tf\n",
    "from tensorflow.keras import layers, models, initializers, optimizers\n",
    "import tensorflow.keras.datasets.mnist as mnist\n",
    "import matplotlib.pyplot as plt\n",
    "plt.style.use(root_directory+'Inc/MatPlotLib_styles/classicChart.mplstyle')"
   ]
  },
  {
   "cell_type": "code",
   "outputs": [
    {
     "name": "stdout",
     "output_type": "stream",
     "text": [
      "Train images shape: (60000, 28, 28)\n",
      "Train labels shape: (60000,)\n",
      "Test images shape: (10000, 28, 28)\n",
      "Test labels shape: (10000,)\n"
     ]
    }
   ],
   "source": [
    "\n",
    "# Load MNIST dataset\n",
    "(train_images, train_labels), (test_images, test_labels) = mnist.load_data()\n",
    "\n",
    "# Print dataset shapes\n",
    "print(\"Train images shape:\", train_images.shape)\n",
    "print(\"Train labels shape:\", train_labels.shape)\n",
    "print(\"Test images shape:\", test_images.shape)\n",
    "print(\"Test labels shape:\", test_labels.shape)\n"
   ],
   "metadata": {
    "collapsed": false,
    "ExecuteTime": {
     "end_time": "2024-07-19T19:49:33.417463Z",
     "start_time": "2024-07-19T19:49:33.339235Z"
    }
   },
   "id": "59451882cea8a25f",
   "execution_count": 3
  },
  {
   "cell_type": "code",
   "outputs": [],
   "source": [
    "# Flatten the images from (28, 28) to (784,)\n",
    "train_images = train_images.reshape((train_images.shape[0], -1)) / 255\n",
    "test_images = test_images.reshape((test_images.shape[0], -1)) / 255\n",
    "\n",
    "# Convert labels to categorical one-hot encoding\n",
    "train_labels = tf.keras.utils.to_categorical(train_labels, 10)\n",
    "test_labels = tf.keras.utils.to_categorical(test_labels, 10)"
   ],
   "metadata": {
    "collapsed": false,
    "ExecuteTime": {
     "end_time": "2024-07-19T19:49:33.564948Z",
     "start_time": "2024-07-19T19:49:33.414726Z"
    }
   },
   "id": "1d304c5f9033374c",
   "execution_count": 4
  },
  {
   "cell_type": "code",
   "outputs": [
    {
     "name": "stderr",
     "output_type": "stream",
     "text": [
      "WARNING:absl:At this time, the v2.11+ optimizer `tf.keras.optimizers.Adam` runs slowly on M1/M2 Macs, please use the legacy Keras optimizer instead, located at `tf.keras.optimizers.legacy.Adam`.\n"
     ]
    }
   ],
   "source": [
    "model = models.Sequential()\n",
    "model.add(\n",
    "    layers.Dense(\n",
    "        100,\n",
    "        activation='tanh',\n",
    "        input_shape=(784,)\n",
    "        # kernel_initializer=initializers.GlorotUniform(),\n",
    "        # bias_initializer=initializers.Zeros()\n",
    "    )\n",
    ")\n",
    "    \n",
    "model.add(\n",
    "    layers.Dense(\n",
    "        10,\n",
    "        activation='softmax',\n",
    "        kernel_initializer=initializers.GlorotUniform(),\n",
    "        bias_initializer=initializers.Zeros()\n",
    "    )\n",
    ")\n",
    "\n",
    "\n",
    "\n",
    "# Compile the model\n",
    "model.compile(optimizer=optimizers.Adam(learning_rate=0.1),\n",
    "              loss='categorical_crossentropy',\n",
    "              metrics=['accuracy'])"
   ],
   "metadata": {
    "collapsed": false,
    "ExecuteTime": {
     "end_time": "2024-07-19T19:49:33.630046Z",
     "start_time": "2024-07-19T19:49:33.566595Z"
    }
   },
   "id": "526b25a89c060870",
   "execution_count": 5
  },
  {
   "cell_type": "code",
   "outputs": [
    {
     "name": "stdout",
     "output_type": "stream",
     "text": [
      "Epoch 1/15\n",
      "400/400 [==============================] - 1s 2ms/step - loss: 0.5659 - accuracy: 0.8413 - val_loss: 0.5515 - val_accuracy: 0.8459\n",
      "Epoch 2/15\n",
      "400/400 [==============================] - 1s 1ms/step - loss: 0.5735 - accuracy: 0.8542 - val_loss: 0.5207 - val_accuracy: 0.8589\n",
      "Epoch 3/15\n",
      "400/400 [==============================] - 1s 1ms/step - loss: 0.5408 - accuracy: 0.8640 - val_loss: 0.5229 - val_accuracy: 0.8650\n",
      "Epoch 4/15\n",
      "400/400 [==============================] - 1s 1ms/step - loss: 0.5304 - accuracy: 0.8693 - val_loss: 0.5735 - val_accuracy: 0.8503\n",
      "Epoch 5/15\n",
      "400/400 [==============================] - 1s 1ms/step - loss: 0.5422 - accuracy: 0.8700 - val_loss: 0.5851 - val_accuracy: 0.8623\n",
      "Epoch 6/15\n",
      "400/400 [==============================] - 1s 1ms/step - loss: 0.5302 - accuracy: 0.8765 - val_loss: 0.5202 - val_accuracy: 0.8808\n",
      "Epoch 7/15\n",
      "400/400 [==============================] - 1s 1ms/step - loss: 0.4909 - accuracy: 0.8858 - val_loss: 0.4619 - val_accuracy: 0.8909\n",
      "Epoch 8/15\n",
      "400/400 [==============================] - 1s 1ms/step - loss: 0.5080 - accuracy: 0.8833 - val_loss: 0.4335 - val_accuracy: 0.8941\n",
      "Epoch 9/15\n",
      "400/400 [==============================] - 1s 1ms/step - loss: 0.5020 - accuracy: 0.8831 - val_loss: 0.5300 - val_accuracy: 0.8826\n",
      "Epoch 10/15\n",
      "400/400 [==============================] - 1s 2ms/step - loss: 0.5259 - accuracy: 0.8851 - val_loss: 0.4817 - val_accuracy: 0.8889\n",
      "Epoch 11/15\n",
      "400/400 [==============================] - 1s 1ms/step - loss: 0.4920 - accuracy: 0.8869 - val_loss: 0.4590 - val_accuracy: 0.8950\n",
      "Epoch 12/15\n",
      "400/400 [==============================] - 1s 1ms/step - loss: 0.5053 - accuracy: 0.8874 - val_loss: 0.6031 - val_accuracy: 0.8610\n",
      "Epoch 13/15\n",
      "400/400 [==============================] - 1s 1ms/step - loss: 0.5242 - accuracy: 0.8841 - val_loss: 0.5357 - val_accuracy: 0.8850\n",
      "Epoch 14/15\n",
      "400/400 [==============================] - 1s 1ms/step - loss: 0.5006 - accuracy: 0.8897 - val_loss: 0.4057 - val_accuracy: 0.9042\n",
      "Epoch 15/15\n",
      "400/400 [==============================] - 1s 1ms/step - loss: 0.5093 - accuracy: 0.8903 - val_loss: 0.5092 - val_accuracy: 0.8971\n"
     ]
    },
    {
     "data": {
      "text/plain": "<keras.src.callbacks.History at 0x29074b430>"
     },
     "execution_count": 6,
     "metadata": {},
     "output_type": "execute_result"
    }
   ],
   "source": [
    "model.fit(train_images, train_labels, validation_data=(test_images, test_labels), epochs=15, batch_size=150)\n",
    "\n"
   ],
   "metadata": {
    "collapsed": false,
    "ExecuteTime": {
     "end_time": "2024-07-19T19:49:42.851815Z",
     "start_time": "2024-07-19T19:49:33.631044Z"
    }
   },
   "id": "8361f763dc706869",
   "execution_count": 6
  },
  {
   "cell_type": "code",
   "outputs": [
    {
     "name": "stdout",
     "output_type": "stream",
     "text": [
      "313/313 [==============================] - 0s 479us/step - loss: 0.5092 - accuracy: 0.8971\n",
      "Test accuracy: 0.8970999717712402\n"
     ]
    }
   ],
   "source": [
    "# Evaluate the model on test data\n",
    "test_loss, test_acc = model.evaluate(test_images, test_labels)\n",
    "print(f'Test accuracy: {test_acc}')"
   ],
   "metadata": {
    "collapsed": false,
    "ExecuteTime": {
     "end_time": "2024-07-19T19:49:43.075928Z",
     "start_time": "2024-07-19T19:49:42.852754Z"
    }
   },
   "id": "db47a9c3a3365a5e",
   "execution_count": 7
  },
  {
   "cell_type": "code",
   "outputs": [],
   "source": [],
   "metadata": {
    "collapsed": false,
    "ExecuteTime": {
     "end_time": "2024-07-19T19:49:43.974586Z",
     "start_time": "2024-07-19T19:49:43.971257Z"
    }
   },
   "id": "a73f7e4a64f503b8"
  }
 ],
 "metadata": {
  "kernelspec": {
   "display_name": "Python 3",
   "language": "python",
   "name": "python3"
  },
  "language_info": {
   "codemirror_mode": {
    "name": "ipython",
    "version": 2
   },
   "file_extension": ".py",
   "mimetype": "text/x-python",
   "name": "python",
   "nbconvert_exporter": "python",
   "pygments_lexer": "ipython2",
   "version": "2.7.6"
  }
 },
 "nbformat": 4,
 "nbformat_minor": 5
}
