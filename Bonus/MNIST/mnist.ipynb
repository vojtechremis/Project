{
 "cells": [
  {
   "cell_type": "markdown",
   "id": "ad20797cd60dec80",
   "metadata": {
    "collapsed": false
   },
   "source": [
    "# MNIST Training ShowDown"
   ]
  },
  {
   "cell_type": "code",
   "execution_count": 4,
   "id": "ecf5a00bf11609ca",
   "metadata": {
    "ExecuteTime": {
     "end_time": "2024-07-19T19:49:29.889119Z",
     "start_time": "2024-07-19T19:49:29.878425Z"
    },
    "collapsed": false
   },
   "outputs": [],
   "source": [
    "root_directory = '/Users/vojtechremis/Desktop/VŠ/BP/bachelorproject_git/bachelorproject/'"
   ]
  },
  {
   "cell_type": "code",
   "execution_count": 5,
   "id": "initial_id",
   "metadata": {
    "ExecuteTime": {
     "end_time": "2024-07-19T19:49:33.339603Z",
     "start_time": "2024-07-19T19:49:29.882966Z"
    },
    "collapsed": true
   },
   "outputs": [],
   "source": [
    "import tensorflow as tf\n",
    "from tensorflow.keras import layers, models, initializers, optimizers\n",
    "import tensorflow.keras.datasets.mnist as mnist"
   ]
  },
  {
   "cell_type": "markdown",
   "id": "cb061aa7",
   "metadata": {},
   "source": [
    "# Load data"
   ]
  },
  {
   "cell_type": "code",
   "execution_count": 7,
   "id": "1d304c5f9033374c",
   "metadata": {
    "ExecuteTime": {
     "end_time": "2024-07-19T19:49:33.564948Z",
     "start_time": "2024-07-19T19:49:33.414726Z"
    },
    "collapsed": false
   },
   "outputs": [],
   "source": [
    "# Load MNIST dataset\n",
    "(train_images, train_labels), (test_images, test_labels) = mnist.load_data()\n",
    "\n",
    "# Flatten the images (and normalizing)\n",
    "train_images = train_images.reshape((train_images.shape[0], -1)) / 255\n",
    "test_images = test_images.reshape((test_images.shape[0], -1)) / 255\n",
    "\n",
    "# One Hot\n",
    "train_labels = tf.keras.utils.to_categorical(train_labels, 10)\n",
    "test_labels = tf.keras.utils.to_categorical(test_labels, 10)"
   ]
  },
  {
   "cell_type": "markdown",
   "id": "fd3838cf",
   "metadata": {},
   "source": [
    "# Prepare network"
   ]
  },
  {
   "cell_type": "code",
   "execution_count": 8,
   "id": "526b25a89c060870",
   "metadata": {
    "ExecuteTime": {
     "end_time": "2024-07-19T19:49:33.630046Z",
     "start_time": "2024-07-19T19:49:33.566595Z"
    },
    "collapsed": false
   },
   "outputs": [
    {
     "name": "stderr",
     "output_type": "stream",
     "text": [
      "WARNING:absl:At this time, the v2.11+ optimizer `tf.keras.optimizers.Adam` runs slowly on M1/M2 Macs, please use the legacy Keras optimizer instead, located at `tf.keras.optimizers.legacy.Adam`.\n"
     ]
    }
   ],
   "source": [
    "model = models.Sequential()\n",
    "model.add(\n",
    "    layers.Dense(\n",
    "        100,\n",
    "        activation='tanh',\n",
    "        input_shape=(784,)\n",
    "    )\n",
    ")\n",
    "    \n",
    "model.add(\n",
    "    layers.Dense(\n",
    "        10,\n",
    "        activation='softmax',\n",
    "        kernel_initializer=initializers.GlorotUniform(),\n",
    "        bias_initializer=initializers.Zeros()\n",
    "    )\n",
    ")\n",
    "\n",
    "\n",
    "\n",
    "# Compile the model\n",
    "model.compile(optimizer=optimizers.Adam(learning_rate=0.001),\n",
    "              loss='categorical_crossentropy',\n",
    "              metrics=['accuracy'])"
   ]
  },
  {
   "cell_type": "markdown",
   "id": "c51e89f0",
   "metadata": {},
   "source": [
    "# Fit model"
   ]
  },
  {
   "cell_type": "code",
   "execution_count": 9,
   "id": "8361f763dc706869",
   "metadata": {
    "ExecuteTime": {
     "end_time": "2024-07-19T19:49:42.851815Z",
     "start_time": "2024-07-19T19:49:33.631044Z"
    },
    "collapsed": false
   },
   "outputs": [
    {
     "name": "stdout",
     "output_type": "stream",
     "text": [
      "Epoch 1/15\n",
      "120/120 [==============================] - 1s 3ms/step - loss: 0.6144 - accuracy: 0.8356 - val_loss: 0.3241 - val_accuracy: 0.9103\n",
      "Epoch 2/15\n",
      "120/120 [==============================] - 0s 3ms/step - loss: 0.2951 - accuracy: 0.9175 - val_loss: 0.2546 - val_accuracy: 0.9279\n",
      "Epoch 3/15\n",
      "120/120 [==============================] - 0s 2ms/step - loss: 0.2420 - accuracy: 0.9320 - val_loss: 0.2190 - val_accuracy: 0.9371\n",
      "Epoch 4/15\n",
      "120/120 [==============================] - 0s 2ms/step - loss: 0.2066 - accuracy: 0.9418 - val_loss: 0.1915 - val_accuracy: 0.9445\n",
      "Epoch 5/15\n",
      "120/120 [==============================] - 0s 2ms/step - loss: 0.1792 - accuracy: 0.9499 - val_loss: 0.1710 - val_accuracy: 0.9501\n",
      "Epoch 6/15\n",
      "120/120 [==============================] - 0s 2ms/step - loss: 0.1579 - accuracy: 0.9558 - val_loss: 0.1553 - val_accuracy: 0.9544\n",
      "Epoch 7/15\n",
      "120/120 [==============================] - 0s 3ms/step - loss: 0.1405 - accuracy: 0.9610 - val_loss: 0.1428 - val_accuracy: 0.9574\n",
      "Epoch 8/15\n",
      "120/120 [==============================] - 0s 2ms/step - loss: 0.1264 - accuracy: 0.9651 - val_loss: 0.1305 - val_accuracy: 0.9630\n",
      "Epoch 9/15\n",
      "120/120 [==============================] - 0s 2ms/step - loss: 0.1141 - accuracy: 0.9687 - val_loss: 0.1256 - val_accuracy: 0.9631\n",
      "Epoch 10/15\n",
      "120/120 [==============================] - 0s 2ms/step - loss: 0.1033 - accuracy: 0.9720 - val_loss: 0.1160 - val_accuracy: 0.9657\n",
      "Epoch 11/15\n",
      "120/120 [==============================] - 0s 2ms/step - loss: 0.0943 - accuracy: 0.9744 - val_loss: 0.1108 - val_accuracy: 0.9677\n",
      "Epoch 12/15\n",
      "120/120 [==============================] - 0s 2ms/step - loss: 0.0863 - accuracy: 0.9768 - val_loss: 0.1049 - val_accuracy: 0.9698\n",
      "Epoch 13/15\n",
      "120/120 [==============================] - 0s 2ms/step - loss: 0.0797 - accuracy: 0.9787 - val_loss: 0.1034 - val_accuracy: 0.9700\n",
      "Epoch 14/15\n",
      "120/120 [==============================] - 0s 2ms/step - loss: 0.0734 - accuracy: 0.9802 - val_loss: 0.0986 - val_accuracy: 0.9700\n",
      "Epoch 15/15\n",
      "120/120 [==============================] - 0s 3ms/step - loss: 0.0675 - accuracy: 0.9820 - val_loss: 0.0960 - val_accuracy: 0.9708\n"
     ]
    },
    {
     "data": {
      "text/plain": [
       "<keras.src.callbacks.History at 0x17e56f2e0>"
      ]
     },
     "execution_count": 9,
     "metadata": {},
     "output_type": "execute_result"
    }
   ],
   "source": [
    "model.fit(train_images, train_labels, validation_data=(test_images, test_labels), epochs=15, batch_size=500)"
   ]
  }
 ],
 "metadata": {
  "kernelspec": {
   "display_name": "Python 3",
   "language": "python",
   "name": "python3"
  },
  "language_info": {
   "codemirror_mode": {
    "name": "ipython",
    "version": 3
   },
   "file_extension": ".py",
   "mimetype": "text/x-python",
   "name": "python",
   "nbconvert_exporter": "python",
   "pygments_lexer": "ipython3",
   "version": "3.10.11"
  }
 },
 "nbformat": 4,
 "nbformat_minor": 5
}
